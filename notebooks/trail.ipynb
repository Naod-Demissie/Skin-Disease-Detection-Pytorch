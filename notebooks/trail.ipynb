{
 "cells": [
  {
   "cell_type": "code",
   "execution_count": 81,
   "metadata": {},
   "outputs": [],
   "source": [
    "import os\n",
    "import sys\n",
    "import cv2\n",
    "import pandas as pd\n",
    "from glob import glob\n",
    "from PIL import Image\n",
    "from enum import Enum\n",
    "from typing import Optional, Tuple, List\n",
    "from sklearn.model_selection import GroupShuffleSplit, train_test_split\n",
    "\n",
    "import torch\n",
    "import torch.nn.functional as F\n",
    "from torchvision import transforms\n",
    "from torch.utils.data import Dataset, DataLoader\n",
    "\n",
    "ROOT_DIR = 'D:/Projects/Skin-Disease-Detection-Pytorch'\n",
    "sys.path.append(ROOT_DIR)\n",
    "from src.utils.config import *"
   ]
  },
  {
   "cell_type": "code",
   "execution_count": 46,
   "metadata": {},
   "outputs": [],
   "source": [
    "DERMNET_DATA_DIR = 'D:/Datasets/Skin-Disease-Detection/dataset/Dermnet'\n",
    "DERMNET_LABEL_NAME = os.listdir(f'{DERMNET_DATA_DIR}/train')"
   ]
  },
  {
   "cell_type": "code",
   "execution_count": 97,
   "metadata": {},
   "outputs": [],
   "source": [
    "class DermnetDataset(Dataset):\n",
    "    def __init__(\n",
    "            self, \n",
    "            data: Tuple[str, int], \n",
    "            transform: Optional[transforms.Compose] = None\n",
    "    ) -> None:\n",
    "        self.data = data\n",
    "        self.transform = transform\n",
    "\n",
    "    def __len__(self) -> int:\n",
    "        return len(self.data)\n",
    "\n",
    "    def __getitem__(self, index: int) -> Tuple[torch.Tensor, torch.Tensor]:\n",
    "        image_path, label = self.data[index]\n",
    "        image = Image.open(image_path)\n",
    "        label = torch.tensor(label)\n",
    "        label = F.one_hot(label, num_classes=len(DERMNET_LABEL_NAME)).float()\n",
    "        \n",
    "\n",
    "        if self.transform:\n",
    "            image = self.transform(image)\n",
    "        return image, label, image_path\n",
    "\n",
    "\n",
    "\n",
    "def _transforms(resize_size, crop_size):\n",
    "    train_transform = transforms.Compose(\n",
    "            [\n",
    "                # transforms.ToPILImage(),\n",
    "                transforms.Resize(resize_size[:-1]),\n",
    "                transforms.CenterCrop(crop_size[:-1]),\n",
    "                transforms.RandomHorizontalFlip(),\n",
    "                transforms.RandomVerticalFlip(),\n",
    "                transforms.ToTensor(),\n",
    "                transforms.Normalize((0.485, 0.456, 0.406), (0.229, 0.224, 0.225)),\n",
    "            ]\n",
    "        )\n",
    "    val_transform = transforms.Compose(\n",
    "            [\n",
    "                # transforms.ToPILImage(),\n",
    "                transforms.Resize(resize_size[:-1]),\n",
    "                transforms.CenterCrop(crop_size[:-1]),\n",
    "                transforms.ToTensor(),\n",
    "                transforms.Normalize((0.485, 0.456, 0.406), (0.229, 0.224, 0.225)),\n",
    "            ]\n",
    "        )\n",
    "    \n",
    "    test_transform= transforms.Compose(\n",
    "            [\n",
    "                # transforms.ToPILImage(),\n",
    "                transforms.Resize(resize_size[:-1]),\n",
    "                transforms.CenterCrop(crop_size[:-1]),\n",
    "                transforms.ToTensor(),\n",
    "                transforms.Normalize((0.485, 0.456, 0.406), (0.229, 0.224, 0.225)),\n",
    "            ]\n",
    "        )\n",
    "    \n",
    "    return train_transform, val_transform, test_transform\n",
    "    \n",
    "\n",
    "\n",
    "\n",
    "def prepare_dermnet_data(\n",
    "        resize_size: Tuple[int, int, int], \n",
    "        crop_size: Tuple[int, int, int], \n",
    "        batch_size: int, \n",
    "        num_workers: int\n",
    ") -> Tuple[DataLoader, DataLoader, DataLoader]:\n",
    "    \n",
    "    DERMNET_DATA_DIR = 'D:/Datasets/Skin-Disease-Detection/dataset/Dermnet'\n",
    "    label_names = os.listdir(f'{DERMNET_DATA_DIR}/train')\n",
    "    train_data = []\n",
    "    val_data = []\n",
    "    for label in label_names:\n",
    "        file_paths = glob(f'{DERMNET_DATA_DIR}/train/{label}/*')\n",
    "        train_paths, val_paths = train_test_split(file_paths, test_size=0.2, random_state=42)\n",
    "\n",
    "        sparse_label = label_names.index(label)\n",
    "        train_data += [(path, sparse_label) for path in train_paths]\n",
    "        val_data += [(path, sparse_label) for path in val_paths]\n",
    "\n",
    "    test_data = []\n",
    "    for label in label_names:\n",
    "        file_paths = glob(f'{DERMNET_DATA_DIR}/test/{label}/*')\n",
    "        sparse_label = label_names.index(label)\n",
    "        test_data += [(path, sparse_label) for path in file_paths]\n",
    "\n",
    "\n",
    "    train_transform, val_transform, test_transform = _transforms(resize_size[:-1], crop_size[:-1])\n",
    "\n",
    "    train_ds = DermnetDataset(data=train_data, transform=train_transform)\n",
    "    val_ds = DermnetDataset(data=val_data, transform=val_transform)\n",
    "    test_ds = DermnetDataset(data=test_data, transform=test_transform)\n",
    "\n",
    "    train_dataloader = DataLoader(\n",
    "        train_ds,\n",
    "        batch_size=batch_size,\n",
    "        num_workers=num_workers,\n",
    "        shuffle=True,\n",
    "        persistent_workers=True,\n",
    "        pin_memory=True\n",
    "    )\n",
    "\n",
    "    val_dataloader = DataLoader(\n",
    "        val_ds,\n",
    "        batch_size=batch_size,\n",
    "        num_workers=num_workers,\n",
    "        shuffle=True,\n",
    "        persistent_workers=True,\n",
    "        pin_memory=True\n",
    "    )\n",
    "\n",
    "    test_dataloader = DataLoader(\n",
    "        test_ds,\n",
    "        batch_size=batch_size,\n",
    "        num_workers=num_workers,\n",
    "        shuffle=True,\n",
    "        persistent_workers=True,\n",
    "        pin_memory=True\n",
    "    )\n",
    "\n",
    "    return train_dataloader, val_dataloader, test_dataloader"
   ]
  },
  {
   "cell_type": "code",
   "execution_count": 100,
   "metadata": {},
   "outputs": [
    {
     "name": "stdout",
     "output_type": "stream",
     "text": [
      "tensor(5)\n",
      "torch.Size([3, 224, 224]) tensor([0., 0., 0., 0., 0., 1., 0., 0., 0., 0., 0., 0., 0., 0., 0., 0., 0., 0.,\n",
      "        0., 0., 0., 0., 0.]) D:/Datasets/Skin-Disease-Detection/dataset/Dermnet/train/Eczema Photos\\lichen-simplex-chronicus-114.jpg\n"
     ]
    }
   ],
   "source": [
    "DERMNET_DATA_DIR = 'D:/Datasets/Skin-Disease-Detection/dataset/Dermnet'\n",
    "label_names = os.listdir(f'{DERMNET_DATA_DIR}/train')\n",
    "train_data = []\n",
    "val_data = []\n",
    "for label in label_names:\n",
    "    file_paths = glob(f'{DERMNET_DATA_DIR}/train/{label}/*')\n",
    "    train_paths, val_paths = train_test_split(file_paths, test_size=0.2, random_state=42)\n",
    "\n",
    "    sparse_label = label_names.index(label)\n",
    "    train_data += [(path, sparse_label) for path in train_paths]\n",
    "    val_data += [(path, sparse_label) for path in val_paths]\n",
    "\n",
    "# test_data = []\n",
    "# for label in label_names:\n",
    "#     file_paths = glob(f'{DERMNET_DATA_DIR}/test/{label}/*')\n",
    "#     sparse_label = label_names.index(label)\n",
    "#     test_data += [(path, sparse_label) for path in file_paths]\n",
    "\n",
    "\n",
    "train_transform, val_transform, test_transform = _transforms((256, 256), (224, 224))\n",
    "\n",
    "train_ds = DermnetDataset(data=train_data, transform=train_transform)\n",
    "# val_ds = DermnetDataset(data=val_data, transform=val_transform)\n",
    "# test_ds = DermnetDataset(data=test_data, transform=test_transform)\n",
    "\n",
    "img, label, image_path = train_ds.__getitem__(3200)\n",
    "print(img.shape, label, image_path)"
   ]
  },
  {
   "cell_type": "code",
   "execution_count": 91,
   "metadata": {},
   "outputs": [
    {
     "data": {
      "text/plain": [
       "tensor([0, 1, 2, 3, 4])"
      ]
     },
     "execution_count": 91,
     "metadata": {},
     "output_type": "execute_result"
    }
   ],
   "source": [
    "import torch\n",
    "import torch.nn.functional as F\n",
    "import numpy as np\n",
    "\n",
    "# Your continuous label tensor\n",
    "label = torch.from_numpy(np.arange(5, 10))\n",
    "\n",
    "# Convert to integer indices\n",
    "label_indices = (label.float() - label.min().float()).long()\n",
    "label_indices\n",
    "# Apply F.one_hot\n",
    "# one_hot_label = F.one_hot(label_indices, num_classes=7)\n",
    "\n",
    "# print(one_hot_label)\n"
   ]
  },
  {
   "cell_type": "code",
   "execution_count": 94,
   "metadata": {},
   "outputs": [
    {
     "ename": "RuntimeError",
     "evalue": "one_hot is only applicable to index tensor.",
     "output_type": "error",
     "traceback": [
      "\u001b[1;31m---------------------------------------------------------------------------\u001b[0m",
      "\u001b[1;31mRuntimeError\u001b[0m                              Traceback (most recent call last)",
      "\u001b[1;32md:\\Projects\\Skin-Disease-Detection-Pytorch\\notebooks\\trail.ipynb Cell 6\u001b[0m line \u001b[0;36m1\n\u001b[1;32m----> <a href='vscode-notebook-cell:/d%3A/Projects/Skin-Disease-Detection-Pytorch/notebooks/trail.ipynb#X12sZmlsZQ%3D%3D?line=0'>1</a>\u001b[0m one_hot_label \u001b[39m=\u001b[39m F\u001b[39m.\u001b[39;49mone_hot(torch\u001b[39m.\u001b[39;49mTensor(\u001b[39m4\u001b[39;49m), num_classes\u001b[39m=\u001b[39;49m\u001b[39m7\u001b[39;49m)\n",
      "\u001b[1;31mRuntimeError\u001b[0m: one_hot is only applicable to index tensor."
     ]
    }
   ],
   "source": [
    "one_hot_label = F.one_hot(torch.Tensor(4), num_classes=7)"
   ]
  },
  {
   "cell_type": "code",
   "execution_count": 90,
   "metadata": {},
   "outputs": [
    {
     "ename": "RuntimeError",
     "evalue": "Class values must be smaller than num_classes.",
     "output_type": "error",
     "traceback": [
      "\u001b[1;31m---------------------------------------------------------------------------\u001b[0m",
      "\u001b[1;31mRuntimeError\u001b[0m                              Traceback (most recent call last)",
      "\u001b[1;32md:\\Projects\\Skin-Disease-Detection-Pytorch\\notebooks\\trail.ipynb Cell 6\u001b[0m line \u001b[0;36m3\n\u001b[0;32m      <a href='vscode-notebook-cell:/d%3A/Projects/Skin-Disease-Detection-Pytorch/notebooks/trail.ipynb#W5sZmlsZQ%3D%3D?line=0'>1</a>\u001b[0m \u001b[39mimport\u001b[39;00m \u001b[39mnumpy\u001b[39;00m \u001b[39mas\u001b[39;00m \u001b[39mnp\u001b[39;00m\n\u001b[0;32m      <a href='vscode-notebook-cell:/d%3A/Projects/Skin-Disease-Detection-Pytorch/notebooks/trail.ipynb#W5sZmlsZQ%3D%3D?line=1'>2</a>\u001b[0m label \u001b[39m=\u001b[39m torch\u001b[39m.\u001b[39mfrom_numpy(np\u001b[39m.\u001b[39marange(\u001b[39m3\u001b[39m, \u001b[39m10\u001b[39m))\n\u001b[1;32m----> <a href='vscode-notebook-cell:/d%3A/Projects/Skin-Disease-Detection-Pytorch/notebooks/trail.ipynb#W5sZmlsZQ%3D%3D?line=2'>3</a>\u001b[0m F\u001b[39m.\u001b[39;49mone_hot(label\u001b[39m.\u001b[39;49mlong(), num_classes\u001b[39m=\u001b[39;49m\u001b[39m7\u001b[39;49m)\n",
      "\u001b[1;31mRuntimeError\u001b[0m: Class values must be smaller than num_classes."
     ]
    }
   ],
   "source": [
    "import numpy as np\n",
    "label = torch.from_numpy(np.arange(3, 10))\n",
    "F.one_hot(label.long(), num_classes=7)\n",
    "\n",
    "\n",
    "\n"
   ]
  },
  {
   "cell_type": "code",
   "execution_count": null,
   "metadata": {},
   "outputs": [],
   "source": []
  }
 ],
 "metadata": {
  "kernelspec": {
   "display_name": "torch_env",
   "language": "python",
   "name": "python3"
  },
  "language_info": {
   "codemirror_mode": {
    "name": "ipython",
    "version": 3
   },
   "file_extension": ".py",
   "mimetype": "text/x-python",
   "name": "python",
   "nbconvert_exporter": "python",
   "pygments_lexer": "ipython3",
   "version": "3.10.13"
  }
 },
 "nbformat": 4,
 "nbformat_minor": 2
}
